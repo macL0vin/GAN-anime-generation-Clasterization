{
  "nbformat": 4,
  "nbformat_minor": 0,
  "metadata": {
    "colab": {
      "name": "anime_clasterization_Uahit.ipynb",
      "provenance": [],
      "collapsed_sections": [
        "5OVg0XS4OB5Q"
      ]
    },
    "kernelspec": {
      "name": "python3",
      "display_name": "Python 3"
    },
    "language_info": {
      "name": "python"
    }
  },
  "cells": [
    {
      "cell_type": "code",
      "metadata": {
        "id": "JnE5yDvyuO3V"
      },
      "source": [
        "from tensorflow.keras.preprocessing import image\n",
        "from tensorflow.keras.preprocessing.image import img_to_array\n",
        "from sklearn.cluster import KMeans\n",
        "import pandas as pd\n",
        "import numpy as np\n",
        "from tqdm import tqdm\n",
        "import os\n",
        "import shutil"
      ],
      "execution_count": 4,
      "outputs": []
    },
    {
      "cell_type": "code",
      "metadata": {
        "colab": {
          "base_uri": "https://localhost:8080/"
        },
        "id": "nkNtSqHeslDb",
        "outputId": "6b52c9fe-edf5-4136-aab6-70f4909c0788"
      },
      "source": [
        "from google.colab import drive\n",
        "drive.mount('/content/drive')"
      ],
      "execution_count": 1,
      "outputs": [
        {
          "output_type": "stream",
          "name": "stdout",
          "text": [
            "Mounted at /content/drive\n"
          ]
        }
      ]
    },
    {
      "cell_type": "code",
      "metadata": {
        "id": "FjvKm92YtHou"
      },
      "source": [
        "directory = '/content/drive/MyDrive/'\n",
        "images_dir = directory + 'generated'\n",
        "original_dir = directory + 'anime_original'"
      ],
      "execution_count": 50,
      "outputs": []
    },
    {
      "cell_type": "code",
      "metadata": {
        "id": "vhfgpcpHuGMY"
      },
      "source": [
        "img_path=os.listdir(images_dir)\n"
      ],
      "execution_count": 5,
      "outputs": []
    },
    {
      "cell_type": "code",
      "metadata": {
        "colab": {
          "base_uri": "https://localhost:8080/"
        },
        "id": "2k6VqXj7uUT9",
        "outputId": "def79d3b-78e6-4303-baaf-d274ef68a1d1"
      },
      "source": [
        "print(img_path)"
      ],
      "execution_count": 6,
      "outputs": [
        {
          "output_type": "stream",
          "name": "stdout",
          "text": [
            "['generated-images-000_e1.png', 'generated-images-001_e0.png', 'generated-images-002_e0.png', 'generated-images-003_e0.png', 'generated-images-004_e0.png', 'generated-images-005_e0.png', 'generated-images-006_e0.png', 'generated-images-007_e0.png', 'generated-images-008_e0.png', 'generated-images-009_e0.png', 'generated-images-010_e0.png', 'generated-images-011_e0.png', 'generated-images-012_e0.png', 'generated-images-013_e0.png', 'generated-images-014_e0.png', 'generated-images-015_e0.png', 'generated-images-016_e0.png', 'generated-images-001_e1.png', 'generated-images-002_e1.png', 'generated-images-003_e1.png', 'generated-images-004_e1.png', 'generated-images-005_e1.png', 'generated-images-006_e1.png', 'generated-images-007_e1.png', 'generated-images-008_e1.png', 'generated-images-009_e1.png', 'generated-images-010_e1.png', 'generated-images-011_e1.png', 'generated-images-012_e1.png', 'generated-images-013_e1.png', 'generated-images-014_e1.png', 'generated-images-015_e1.png', 'generated-images-016_e1.png', 'generated-images-001_e2.png', 'generated-images-002_e2.png', 'generated-images-003_e2.png', 'generated-images-004_e2.png', 'generated-images-005_e2.png', 'generated-images-006_e2.png', 'generated-images-007_e2.png', 'generated-images-008_e2.png', 'generated-images-009_e2.png', 'generated-images-010_e2.png', 'generated-images-011_e2.png', 'generated-images-012_e2.png', 'generated-images-013_e2.png', 'generated-images-014_e2.png', 'generated-images-015_e2.png', 'generated-images-016_e2.png', 'generated-images-001_e3.png', 'generated-images-002_e3.png', 'generated-images-003_e3.png', 'generated-images-004_e3.png', 'generated-images-005_e3.png', 'generated-images-006_e3.png', 'generated-images-007_e3.png', 'generated-images-008_e3.png', 'generated-images-009_e3.png', 'generated-images-010_e3.png', 'generated-images-011_e3.png', 'generated-images-012_e3.png', 'generated-images-013_e3.png', 'generated-images-014_e3.png', 'generated-images-015_e3.png', 'generated-images-016_e3.png', 'generated-images-001_e4.png', 'generated-images-002_e4.png', 'generated-images-003_e4.png', 'generated-images-004_e4.png', 'generated-images-005_e4.png', 'generated-images-006_e4.png', 'generated-images-007_e4.png', 'generated-images-008_e4.png', 'generated-images-009_e4.png', 'generated-images-010_e4.png', 'generated-images-011_e4.png', 'generated-images-012_e4.png', 'generated-images-013_e4.png', 'generated-images-014_e4.png', 'generated-images-015_e4.png', 'generated-images-016_e4.png', 'generated-images-001_e5.png', 'generated-images-002_e5.png', 'generated-images-003_e5.png', 'generated-images-004_e5.png', 'generated-images-005_e5.png', 'generated-images-006_e5.png', 'generated-images-007_e5.png', 'generated-images-008_e5.png', 'generated-images-009_e5.png', 'generated-images-010_e5.png', 'generated-images-011_e5.png', 'generated-images-012_e5.png', 'generated-images-013_e5.png', 'generated-images-014_e5.png', 'generated-images-015_e5.png', 'generated-images-016_e5.png', 'generated-images-001_e6.png', 'generated-images-002_e6.png', 'generated-images-003_e6.png', 'generated-images-004_e6.png', 'generated-images-005_e6.png', 'generated-images-006_e6.png', 'generated-images-007_e6.png', 'generated-images-008_e6.png', 'generated-images-009_e6.png', 'generated-images-010_e6.png', 'generated-images-011_e6.png', 'generated-images-012_e6.png', 'generated-images-013_e6.png', 'generated-images-014_e6.png', 'generated-images-015_e6.png', 'generated-images-016_e6.png', 'generated-images-001_e7.png', 'generated-images-002_e7.png', 'generated-images-003_e7.png', 'generated-images-004_e7.png', 'generated-images-005_e7.png', 'generated-images-006_e7.png', 'generated-images-007_e7.png', 'generated-images-008_e7.png', 'generated-images-009_e7.png', 'generated-images-010_e7.png', 'generated-images-011_e7.png', 'generated-images-012_e7.png', 'generated-images-013_e7.png', 'generated-images-014_e7.png', 'generated-images-015_e7.png', 'generated-images-016_e7.png', 'generated-images-001_e8.png', 'generated-images-002_e8.png', 'generated-images-003_e8.png', 'generated-images-004_e8.png', 'generated-images-005_e8.png', 'generated-images-006_e8.png', 'generated-images-007_e8.png', 'generated-images-008_e8.png', 'generated-images-009_e8.png', 'generated-images-010_e8.png', 'generated-images-011_e8.png', 'generated-images-012_e8.png', 'generated-images-013_e8.png', 'generated-images-014_e8.png', 'generated-images-015_e8.png', 'generated-images-016_e8.png', 'generated-images-001_e9.png', 'generated-images-002_e9.png', 'generated-images-003_e9.png', 'generated-images-004_e9.png', 'generated-images-005_e9.png', 'generated-images-006_e9.png', 'generated-images-007_e9.png', 'generated-images-008_e9.png', 'generated-images-009_e9.png', 'generated-images-010_e9.png', 'generated-images-011_e9.png', 'generated-images-012_e9.png', 'generated-images-013_e9.png', 'generated-images-014_e9.png', 'generated-images-015_e9.png', 'generated-images-016_e9.png', 'generated-images-001_e10.png', 'generated-images-002_e10.png', 'generated-images-003_e10.png', 'generated-images-004_e10.png', 'generated-images-005_e10.png', 'generated-images-006_e10.png', 'generated-images-007_e10.png', 'generated-images-008_e10.png', 'generated-images-009_e10.png', 'generated-images-010_e10.png', 'generated-images-011_e10.png', 'generated-images-012_e10.png', 'generated-images-013_e10.png', 'generated-images-014_e10.png', 'generated-images-015_e10.png', 'generated-images-016_e10.png', 'generated-images-001_e11.png', 'generated-images-002_e11.png', 'generated-images-003_e11.png', 'generated-images-004_e11.png', 'generated-images-005_e11.png', 'generated-images-006_e11.png', 'generated-images-007_e11.png', 'generated-images-008_e11.png', 'generated-images-009_e11.png', 'generated-images-010_e11.png', 'generated-images-011_e11.png', 'generated-images-012_e11.png', 'generated-images-013_e11.png', 'generated-images-014_e11.png', 'generated-images-015_e11.png', 'generated-images-016_e11.png', 'generated-images-001_e12.png', 'generated-images-002_e12.png', 'generated-images-003_e12.png', 'generated-images-004_e12.png', 'generated-images-005_e12.png', 'generated-images-006_e12.png', 'generated-images-007_e12.png', 'generated-images-008_e12.png', 'generated-images-009_e12.png', 'generated-images-010_e12.png', 'generated-images-011_e12.png', 'generated-images-012_e12.png', 'generated-images-013_e12.png', 'generated-images-014_e12.png', 'generated-images-015_e12.png', 'generated-images-016_e12.png', 'generated-images-001_e13.png', 'generated-images-002_e13.png', 'generated-images-003_e13.png', 'generated-images-004_e13.png', 'generated-images-005_e13.png', 'generated-images-006_e13.png', 'generated-images-007_e13.png', 'generated-images-008_e13.png', 'generated-images-009_e13.png', 'generated-images-010_e13.png', 'generated-images-011_e13.png', 'generated-images-012_e13.png', 'generated-images-013_e13.png', 'generated-images-014_e13.png', 'generated-images-015_e13.png', 'generated-images-016_e13.png', 'generated-images-001_e14.png', 'generated-images-002_e14.png', 'generated-images-003_e14.png', 'generated-images-004_e14.png', 'generated-images-005_e14.png', 'generated-images-006_e14.png', 'generated-images-007_e14.png', 'generated-images-008_e14.png', 'generated-images-009_e14.png', 'generated-images-010_e14.png', 'generated-images-011_e14.png', 'generated-images-012_e14.png', 'generated-images-013_e14.png', 'generated-images-014_e14.png', 'generated-images-015_e14.png', 'generated-images-016_e14.png', 'generated-images-001_e15.png', 'generated-images-002_e15.png', 'generated-images-003_e15.png', 'generated-images-004_e15.png', 'generated-images-005_e15.png', 'generated-images-006_e15.png', 'generated-images-007_e15.png', 'generated-images-008_e15.png', 'generated-images-009_e15.png', 'generated-images-010_e15.png', 'generated-images-011_e15.png', 'generated-images-012_e15.png', 'generated-images-013_e15.png', 'generated-images-014_e15.png', 'generated-images-015_e15.png', 'generated-images-016_e15.png', 'generated-images-001_e16.png', 'generated-images-002_e16.png', 'generated-images-003_e16.png', 'generated-images-004_e16.png', 'generated-images-005_e16.png', 'generated-images-006_e16.png', 'generated-images-007_e16.png', 'generated-images-008_e16.png', 'generated-images-009_e16.png', 'generated-images-010_e16.png', 'generated-images-011_e16.png', 'generated-images-012_e16.png', 'generated-images-013_e16.png', 'generated-images-014_e16.png', 'generated-images-015_e16.png', 'generated-images-016_e16.png', 'generated-images-001_e17.png', 'generated-images-002_e17.png', 'generated-images-003_e17.png', 'generated-images-004_e17.png', 'generated-images-005_e17.png', 'generated-images-006_e17.png', 'generated-images-007_e17.png', 'generated-images-008_e17.png', 'generated-images-009_e17.png', 'generated-images-010_e17.png', 'generated-images-011_e17.png', 'generated-images-012_e17.png', 'generated-images-013_e17.png', 'generated-images-014_e17.png', 'generated-images-015_e17.png', 'generated-images-016_e17.png', 'generated-images-001_e18.png', 'generated-images-002_e18.png', 'generated-images-003_e18.png', 'generated-images-004_e18.png', 'generated-images-005_e18.png', 'generated-images-006_e18.png', 'generated-images-007_e18.png', 'generated-images-008_e18.png', 'generated-images-009_e18.png', 'generated-images-010_e18.png', 'generated-images-011_e18.png', 'generated-images-012_e18.png', 'generated-images-013_e18.png', 'generated-images-014_e18.png', 'generated-images-015_e18.png', 'generated-images-016_e18.png', 'generated-images-001_e19.png', 'generated-images-002_e19.png', 'generated-images-003_e19.png', 'generated-images-004_e19.png', 'generated-images-005_e19.png', 'generated-images-006_e19.png', 'generated-images-007_e19.png', 'generated-images-008_e19.png', 'generated-images-009_e19.png', 'generated-images-010_e19.png', 'generated-images-011_e19.png', 'generated-images-012_e19.png', 'generated-images-013_e19.png', 'generated-images-014_e19.png', 'generated-images-015_e19.png', 'generated-images-016_e19.png', 'generated-images-001_e20.png', 'generated-images-002_e20.png', 'generated-images-003_e20.png', 'generated-images-004_e20.png', 'generated-images-005_e20.png', 'generated-images-006_e20.png', 'generated-images-007_e20.png', 'generated-images-008_e20.png', 'generated-images-009_e20.png', 'generated-images-010_e20.png', 'generated-images-011_e20.png', 'generated-images-012_e20.png', 'generated-images-013_e20.png', 'generated-images-014_e20.png', 'generated-images-015_e20.png', 'generated-images-016_e20.png', 'generated-images-001_e21.png', 'generated-images-002_e21.png', 'generated-images-003_e21.png', 'generated-images-004_e21.png', 'generated-images-005_e21.png', 'generated-images-006_e21.png', 'generated-images-007_e21.png', 'generated-images-008_e21.png', 'generated-images-009_e21.png', 'generated-images-010_e21.png', 'generated-images-011_e21.png', 'generated-images-012_e21.png', 'generated-images-013_e21.png', 'generated-images-014_e21.png', 'generated-images-015_e21.png', 'generated-images-016_e21.png', 'generated-images-001_e22.png', 'generated-images-002_e22.png', 'generated-images-003_e22.png', 'generated-images-004_e22.png', 'generated-images-005_e22.png', 'generated-images-006_e22.png', 'generated-images-007_e22.png', 'generated-images-008_e22.png', 'generated-images-009_e22.png', 'generated-images-010_e22.png', 'generated-images-011_e22.png', 'generated-images-012_e22.png', 'generated-images-013_e22.png', 'generated-images-014_e22.png', 'generated-images-015_e22.png', 'generated-images-016_e22.png', 'generated-images-001_e23.png', 'generated-images-002_e23.png', 'generated-images-003_e23.png', 'generated-images-004_e23.png', 'generated-images-005_e23.png', 'generated-images-006_e23.png', 'generated-images-007_e23.png', 'generated-images-008_e23.png', 'generated-images-009_e23.png', 'generated-images-010_e23.png', 'generated-images-011_e23.png', 'generated-images-012_e23.png', 'generated-images-013_e23.png', 'generated-images-014_e23.png', 'generated-images-015_e23.png', 'generated-images-016_e23.png', 'generated-images-001_e24.png', 'generated-images-002_e24.png', 'generated-images-003_e24.png', 'generated-images-004_e24.png', 'generated-images-005_e24.png', 'generated-images-006_e24.png', 'generated-images-007_e24.png', 'generated-images-008_e24.png', 'generated-images-009_e24.png', 'generated-images-010_e24.png', 'generated-images-011_e24.png', 'generated-images-012_e24.png', 'generated-images-013_e24.png', 'generated-images-014_e24.png', 'generated-images-015_e24.png', 'generated-images-016_e24.png', 'generated-images-001_e25.png', 'generated-images-002_e25.png', 'generated-images-003_e25.png', 'generated-images-004_e25.png', 'generated-images-005_e25.png', 'generated-images-006_e25.png', 'generated-images-007_e25.png', 'generated-images-008_e25.png', 'generated-images-009_e25.png', 'generated-images-010_e25.png', 'generated-images-011_e25.png', 'generated-images-012_e25.png', 'generated-images-013_e25.png', 'generated-images-014_e25.png', 'generated-images-015_e25.png', 'generated-images-016_e25.png', 'generated-images-001_e26.png', 'generated-images-002_e26.png', 'generated-images-003_e26.png', 'generated-images-004_e26.png', 'generated-images-005_e26.png', 'generated-images-006_e26.png', 'generated-images-007_e26.png', 'generated-images-008_e26.png', 'generated-images-009_e26.png', 'generated-images-010_e26.png', 'generated-images-011_e26.png', 'generated-images-012_e26.png', 'generated-images-013_e26.png', 'generated-images-014_e26.png', 'generated-images-015_e26.png', 'generated-images-016_e26.png', 'generated-images-001_e27.png', 'generated-images-002_e27.png', 'generated-images-003_e27.png', 'generated-images-004_e27.png', 'generated-images-005_e27.png', 'generated-images-006_e27.png', 'generated-images-007_e27.png', 'generated-images-008_e27.png', 'generated-images-009_e27.png', 'generated-images-010_e27.png', 'generated-images-011_e27.png', 'generated-images-012_e27.png', 'generated-images-013_e27.png', 'generated-images-014_e27.png', 'generated-images-015_e27.png', 'generated-images-016_e27.png', 'generated-images-001_e28.png', 'generated-images-002_e28.png', 'generated-images-003_e28.png', 'generated-images-004_e28.png', 'generated-images-005_e28.png', 'generated-images-006_e28.png', 'generated-images-007_e28.png', 'generated-images-008_e28.png', 'generated-images-009_e28.png', 'generated-images-010_e28.png', 'generated-images-011_e28.png', 'generated-images-012_e28.png', 'generated-images-013_e28.png', 'generated-images-014_e28.png', 'generated-images-015_e28.png', 'generated-images-016_e28.png', 'generated-images-001_e29.png', 'generated-images-002_e29.png', 'generated-images-003_e29.png', 'generated-images-004_e29.png', 'generated-images-005_e29.png', 'generated-images-006_e29.png', 'generated-images-007_e29.png', 'generated-images-008_e29.png', 'generated-images-009_e29.png', 'generated-images-010_e29.png', 'generated-images-011_e29.png', 'generated-images-012_e29.png', 'generated-images-013_e29.png', 'generated-images-014_e29.png', 'generated-images-015_e29.png', 'generated-images-016_e29.png', 'generated-images-001_e30.png', 'generated-images-002_e30.png', 'generated-images-003_e30.png', 'generated-images-004_e30.png', 'generated-images-005_e30.png', 'generated-images-006_e30.png', 'generated-images-007_e30.png', 'generated-images-008_e30.png', 'generated-images-009_e30.png', 'generated-images-010_e30.png', 'generated-images-011_e30.png', 'generated-images-012_e30.png', 'generated-images-013_e30.png', 'generated-images-014_e30.png', 'generated-images-015_e30.png', 'generated-images-016_e30.png', 'generated-images-001_e31.png', 'generated-images-002_e31.png', 'generated-images-003_e31.png', 'generated-images-004_e31.png', 'generated-images-005_e31.png', 'generated-images-006_e31.png', 'generated-images-007_e31.png', 'generated-images-008_e31.png', 'generated-images-009_e31.png', 'generated-images-010_e31.png', 'generated-images-011_e31.png', 'generated-images-012_e31.png', 'generated-images-013_e31.png', 'generated-images-014_e31.png', 'generated-images-015_e31.png', 'generated-images-016_e31.png', 'generated-images-001_e32.png', 'generated-images-002_e32.png', 'generated-images-003_e32.png', 'generated-images-004_e32.png', 'generated-images-005_e32.png', 'generated-images-006_e32.png', 'generated-images-007_e32.png', 'generated-images-008_e32.png', 'generated-images-009_e32.png', 'generated-images-010_e32.png', 'generated-images-011_e32.png', 'generated-images-012_e32.png', 'generated-images-013_e32.png', 'generated-images-014_e32.png', 'generated-images-015_e32.png', 'generated-images-016_e32.png', 'generated-images-001_e33.png', 'generated-images-002_e33.png', 'generated-images-003_e33.png', 'generated-images-004_e33.png', 'generated-images-005_e33.png', 'generated-images-006_e33.png', 'generated-images-007_e33.png', 'generated-images-008_e33.png', 'generated-images-009_e33.png', 'generated-images-010_e33.png', 'generated-images-011_e33.png', 'generated-images-012_e33.png', 'generated-images-013_e33.png', 'generated-images-014_e33.png', 'generated-images-015_e33.png', 'generated-images-016_e33.png', 'generated-images-001_e34.png', 'generated-images-002_e34.png', 'generated-images-003_e34.png', 'generated-images-004_e34.png', 'generated-images-005_e34.png', 'generated-images-006_e34.png', 'generated-images-007_e34.png', 'generated-images-008_e34.png', 'generated-images-009_e34.png', 'generated-images-010_e34.png', 'generated-images-011_e34.png', 'generated-images-012_e34.png', 'generated-images-013_e34.png', 'generated-images-014_e34.png', 'generated-images-015_e34.png', 'generated-images-016_e34.png', 'generated-images-001_e35.png', 'generated-images-002_e35.png', 'generated-images-003_e35.png', 'generated-images-004_e35.png', 'generated-images-005_e35.png', 'generated-images-006_e35.png', 'generated-images-007_e35.png', 'generated-images-008_e35.png', 'generated-images-009_e35.png', 'generated-images-010_e35.png', 'generated-images-011_e35.png', 'generated-images-012_e35.png', 'generated-images-013_e35.png', 'generated-images-014_e35.png', 'generated-images-015_e35.png', 'generated-images-016_e35.png', 'generated-images-001_e36.png', 'generated-images-002_e36.png', 'generated-images-003_e36.png', 'generated-images-004_e36.png', 'generated-images-005_e36.png', 'generated-images-006_e36.png', 'generated-images-007_e36.png', 'generated-images-008_e36.png', 'generated-images-009_e36.png', 'generated-images-010_e36.png', 'generated-images-011_e36.png', 'generated-images-012_e36.png', 'generated-images-013_e36.png', 'generated-images-014_e36.png', 'generated-images-015_e36.png', 'generated-images-016_e36.png', 'generated-images-001_e37.png', 'generated-images-002_e37.png', 'generated-images-003_e37.png', 'generated-images-004_e37.png', 'generated-images-005_e37.png', 'generated-images-006_e37.png', 'generated-images-007_e37.png', 'generated-images-008_e37.png', 'generated-images-009_e37.png', 'generated-images-010_e37.png', 'generated-images-011_e37.png', 'generated-images-012_e37.png', 'generated-images-013_e37.png', 'generated-images-014_e37.png', 'generated-images-015_e37.png', 'generated-images-016_e37.png', 'generated-images-001_e38.png', 'generated-images-002_e38.png', 'generated-images-003_e38.png', 'generated-images-004_e38.png', 'generated-images-005_e38.png', 'generated-images-006_e38.png', 'generated-images-007_e38.png', 'generated-images-008_e38.png', 'generated-images-009_e38.png', 'generated-images-010_e38.png', 'generated-images-011_e38.png', 'generated-images-012_e38.png', 'generated-images-013_e38.png', 'generated-images-014_e38.png', 'generated-images-015_e38.png', 'generated-images-016_e38.png', 'generated-images-001_e39.png', 'generated-images-002_e39.png', 'generated-images-003_e39.png', 'generated-images-004_e39.png', 'generated-images-005_e39.png', 'generated-images-006_e39.png', 'generated-images-007_e39.png', 'generated-images-008_e39.png', 'generated-images-009_e39.png', 'generated-images-010_e39.png', 'generated-images-011_e39.png', 'generated-images-012_e39.png', 'generated-images-013_e39.png', 'generated-images-014_e39.png', 'generated-images-015_e39.png', 'generated-images-016_e39.png']\n"
          ]
        }
      ]
    },
    {
      "cell_type": "markdown",
      "metadata": {
        "id": "5OVg0XS4OB5Q"
      },
      "source": [
        "# Initially was using 2 folders (original/generated), then merged in 1, thus section Merged"
      ]
    },
    {
      "cell_type": "code",
      "metadata": {
        "colab": {
          "base_uri": "https://localhost:8080/"
        },
        "id": "2CXhEpSMve4c",
        "outputId": "2c450322-cb22-4bbb-f803-368fd2da7662"
      },
      "source": [
        "images_to_cluster = []\n",
        "for img in img_path:\n",
        "  if '_e5' in img or '_e10' in img or '_e20' in img or '_e39' in img:\n",
        "    images_to_cluster.append(img)\n",
        "\n",
        "print(images_to_cluster)"
      ],
      "execution_count": 22,
      "outputs": [
        {
          "output_type": "stream",
          "name": "stdout",
          "text": [
            "['generated-images-001_e5.png', 'generated-images-002_e5.png', 'generated-images-003_e5.png', 'generated-images-004_e5.png', 'generated-images-005_e5.png', 'generated-images-006_e5.png', 'generated-images-007_e5.png', 'generated-images-008_e5.png', 'generated-images-009_e5.png', 'generated-images-010_e5.png', 'generated-images-011_e5.png', 'generated-images-012_e5.png', 'generated-images-013_e5.png', 'generated-images-014_e5.png', 'generated-images-015_e5.png', 'generated-images-016_e5.png', 'generated-images-001_e10.png', 'generated-images-002_e10.png', 'generated-images-003_e10.png', 'generated-images-004_e10.png', 'generated-images-005_e10.png', 'generated-images-006_e10.png', 'generated-images-007_e10.png', 'generated-images-008_e10.png', 'generated-images-009_e10.png', 'generated-images-010_e10.png', 'generated-images-011_e10.png', 'generated-images-012_e10.png', 'generated-images-013_e10.png', 'generated-images-014_e10.png', 'generated-images-015_e10.png', 'generated-images-016_e10.png', 'generated-images-001_e20.png', 'generated-images-002_e20.png', 'generated-images-003_e20.png', 'generated-images-004_e20.png', 'generated-images-005_e20.png', 'generated-images-006_e20.png', 'generated-images-007_e20.png', 'generated-images-008_e20.png', 'generated-images-009_e20.png', 'generated-images-010_e20.png', 'generated-images-011_e20.png', 'generated-images-012_e20.png', 'generated-images-013_e20.png', 'generated-images-014_e20.png', 'generated-images-015_e20.png', 'generated-images-016_e20.png', 'generated-images-001_e39.png', 'generated-images-002_e39.png', 'generated-images-003_e39.png', 'generated-images-004_e39.png', 'generated-images-005_e39.png', 'generated-images-006_e39.png', 'generated-images-007_e39.png', 'generated-images-008_e39.png', 'generated-images-009_e39.png', 'generated-images-010_e39.png', 'generated-images-011_e39.png', 'generated-images-012_e39.png', 'generated-images-013_e39.png', 'generated-images-014_e39.png', 'generated-images-015_e39.png', 'generated-images-016_e39.png']\n"
          ]
        }
      ]
    },
    {
      "cell_type": "code",
      "metadata": {
        "colab": {
          "base_uri": "https://localhost:8080/"
        },
        "id": "sdl67qDo9Qsf",
        "outputId": "3958577b-822e-4f05-a15e-3708512a1361"
      },
      "source": [
        "original_img_path=os.listdir(original_dir)\n",
        "print(original_img_path)"
      ],
      "execution_count": 52,
      "outputs": [
        {
          "output_type": "stream",
          "name": "stdout",
          "text": [
            "['image_0.jpg', 'image_2.jpg', 'image_1.jpg', 'image_5.jpg', 'image_3.jpg', 'image_4.jpg', 'image_6.jpg', 'image_7.jpg', 'image_8.jpg', 'image_9.jpg', 'image_10.jpg', 'image_11.jpg', 'image_12.jpg', 'image_13.jpg', 'image_15.jpg', 'image_14.jpg']\n"
          ]
        }
      ]
    },
    {
      "cell_type": "code",
      "metadata": {
        "colab": {
          "base_uri": "https://localhost:8080/"
        },
        "id": "Fsflfboe9tFD",
        "outputId": "3992abd0-12a1-45e8-c6ac-03b33c417ff5"
      },
      "source": [
        "merged_images = []\n",
        "merged_images.append(images_to_cluster)\n",
        "merged_images.append(original_img_path)\n",
        "merged_images = sum(merged_images, []) #flattens the array\n",
        "print(merged_images)"
      ],
      "execution_count": 58,
      "outputs": [
        {
          "output_type": "stream",
          "name": "stdout",
          "text": [
            "['generated-images-001_e5.png', 'generated-images-002_e5.png', 'generated-images-003_e5.png', 'generated-images-004_e5.png', 'generated-images-005_e5.png', 'generated-images-006_e5.png', 'generated-images-007_e5.png', 'generated-images-008_e5.png', 'generated-images-009_e5.png', 'generated-images-010_e5.png', 'generated-images-011_e5.png', 'generated-images-012_e5.png', 'generated-images-013_e5.png', 'generated-images-014_e5.png', 'generated-images-015_e5.png', 'generated-images-016_e5.png', 'generated-images-001_e10.png', 'generated-images-002_e10.png', 'generated-images-003_e10.png', 'generated-images-004_e10.png', 'generated-images-005_e10.png', 'generated-images-006_e10.png', 'generated-images-007_e10.png', 'generated-images-008_e10.png', 'generated-images-009_e10.png', 'generated-images-010_e10.png', 'generated-images-011_e10.png', 'generated-images-012_e10.png', 'generated-images-013_e10.png', 'generated-images-014_e10.png', 'generated-images-015_e10.png', 'generated-images-016_e10.png', 'generated-images-001_e20.png', 'generated-images-002_e20.png', 'generated-images-003_e20.png', 'generated-images-004_e20.png', 'generated-images-005_e20.png', 'generated-images-006_e20.png', 'generated-images-007_e20.png', 'generated-images-008_e20.png', 'generated-images-009_e20.png', 'generated-images-010_e20.png', 'generated-images-011_e20.png', 'generated-images-012_e20.png', 'generated-images-013_e20.png', 'generated-images-014_e20.png', 'generated-images-015_e20.png', 'generated-images-016_e20.png', 'generated-images-001_e39.png', 'generated-images-002_e39.png', 'generated-images-003_e39.png', 'generated-images-004_e39.png', 'generated-images-005_e39.png', 'generated-images-006_e39.png', 'generated-images-007_e39.png', 'generated-images-008_e39.png', 'generated-images-009_e39.png', 'generated-images-010_e39.png', 'generated-images-011_e39.png', 'generated-images-012_e39.png', 'generated-images-013_e39.png', 'generated-images-014_e39.png', 'generated-images-015_e39.png', 'generated-images-016_e39.png', 'image_0.jpg', 'image_2.jpg', 'image_1.jpg', 'image_5.jpg', 'image_3.jpg', 'image_4.jpg', 'image_6.jpg', 'image_7.jpg', 'image_8.jpg', 'image_9.jpg', 'image_10.jpg', 'image_11.jpg', 'image_12.jpg', 'image_13.jpg', 'image_15.jpg', 'image_14.jpg']\n"
          ]
        }
      ]
    },
    {
      "cell_type": "code",
      "metadata": {
        "colab": {
          "base_uri": "https://localhost:8080/",
          "height": 423
        },
        "id": "55c3iJMixYLQ",
        "outputId": "a501e642-8587-432a-dd40-a073cc2a00f0"
      },
      "source": [
        "image_cluster = pd.DataFrame(merged_images, columns=['image'])\n",
        "image_cluster"
      ],
      "execution_count": 61,
      "outputs": [
        {
          "output_type": "execute_result",
          "data": {
            "text/html": [
              "<div>\n",
              "<style scoped>\n",
              "    .dataframe tbody tr th:only-of-type {\n",
              "        vertical-align: middle;\n",
              "    }\n",
              "\n",
              "    .dataframe tbody tr th {\n",
              "        vertical-align: top;\n",
              "    }\n",
              "\n",
              "    .dataframe thead th {\n",
              "        text-align: right;\n",
              "    }\n",
              "</style>\n",
              "<table border=\"1\" class=\"dataframe\">\n",
              "  <thead>\n",
              "    <tr style=\"text-align: right;\">\n",
              "      <th></th>\n",
              "      <th>image</th>\n",
              "    </tr>\n",
              "  </thead>\n",
              "  <tbody>\n",
              "    <tr>\n",
              "      <th>0</th>\n",
              "      <td>generated-images-001_e5.png</td>\n",
              "    </tr>\n",
              "    <tr>\n",
              "      <th>1</th>\n",
              "      <td>generated-images-002_e5.png</td>\n",
              "    </tr>\n",
              "    <tr>\n",
              "      <th>2</th>\n",
              "      <td>generated-images-003_e5.png</td>\n",
              "    </tr>\n",
              "    <tr>\n",
              "      <th>3</th>\n",
              "      <td>generated-images-004_e5.png</td>\n",
              "    </tr>\n",
              "    <tr>\n",
              "      <th>4</th>\n",
              "      <td>generated-images-005_e5.png</td>\n",
              "    </tr>\n",
              "    <tr>\n",
              "      <th>...</th>\n",
              "      <td>...</td>\n",
              "    </tr>\n",
              "    <tr>\n",
              "      <th>75</th>\n",
              "      <td>image_11.jpg</td>\n",
              "    </tr>\n",
              "    <tr>\n",
              "      <th>76</th>\n",
              "      <td>image_12.jpg</td>\n",
              "    </tr>\n",
              "    <tr>\n",
              "      <th>77</th>\n",
              "      <td>image_13.jpg</td>\n",
              "    </tr>\n",
              "    <tr>\n",
              "      <th>78</th>\n",
              "      <td>image_15.jpg</td>\n",
              "    </tr>\n",
              "    <tr>\n",
              "      <th>79</th>\n",
              "      <td>image_14.jpg</td>\n",
              "    </tr>\n",
              "  </tbody>\n",
              "</table>\n",
              "<p>80 rows × 1 columns</p>\n",
              "</div>"
            ],
            "text/plain": [
              "                          image\n",
              "0   generated-images-001_e5.png\n",
              "1   generated-images-002_e5.png\n",
              "2   generated-images-003_e5.png\n",
              "3   generated-images-004_e5.png\n",
              "4   generated-images-005_e5.png\n",
              "..                          ...\n",
              "75                 image_11.jpg\n",
              "76                 image_12.jpg\n",
              "77                 image_13.jpg\n",
              "78                 image_15.jpg\n",
              "79                 image_14.jpg\n",
              "\n",
              "[80 rows x 1 columns]"
            ]
          },
          "metadata": {},
          "execution_count": 61
        }
      ]
    },
    {
      "cell_type": "code",
      "metadata": {
        "id": "nYv7MPNm1Pjb"
      },
      "source": [
        "labels = []\n",
        "\n",
        "for img in images_to_cluster:\n",
        "  if '_e5' in img:\n",
        "    labels.append(1)\n",
        "  elif '_e10' in img:\n",
        "    labels.append(2)\n",
        "  elif '_e20' in img:\n",
        "    labels.append(3)\n",
        "  elif '_e39' in img:\n",
        "    labels.append(4)\n",
        "\n",
        "for img in original_img_path:\n",
        "  labels.append(5)"
      ],
      "execution_count": 101,
      "outputs": []
    },
    {
      "cell_type": "code",
      "metadata": {
        "colab": {
          "base_uri": "https://localhost:8080/"
        },
        "id": "TYGsqmtmLhWG",
        "outputId": "5651f848-0ddd-4957-d27c-c91bce17bdfa"
      },
      "source": [
        "print(labels)"
      ],
      "execution_count": 102,
      "outputs": [
        {
          "output_type": "stream",
          "name": "stdout",
          "text": [
            "[1, 1, 1, 1, 1, 1, 1, 1, 1, 1, 1, 1, 1, 1, 1, 1, 2, 2, 2, 2, 2, 2, 2, 2, 2, 2, 2, 2, 2, 2, 2, 2, 3, 3, 3, 3, 3, 3, 3, 3, 3, 3, 3, 3, 3, 3, 3, 3, 4, 4, 4, 4, 4, 4, 4, 4, 4, 4, 4, 4, 4, 4, 4, 4, 5, 5, 5, 5, 5, 5, 5, 5, 5, 5, 5, 5, 5, 5, 5, 5]\n"
          ]
        }
      ]
    },
    {
      "cell_type": "code",
      "metadata": {
        "colab": {
          "base_uri": "https://localhost:8080/"
        },
        "id": "HI-5qmHP_hkI",
        "outputId": "1062524a-9f9a-4350-adea-6f8cb63d22cc"
      },
      "source": [
        "print(len(labels))"
      ],
      "execution_count": 75,
      "outputs": [
        {
          "output_type": "stream",
          "name": "stdout",
          "text": [
            "80\n"
          ]
        }
      ]
    },
    {
      "cell_type": "code",
      "metadata": {
        "colab": {
          "base_uri": "https://localhost:8080/",
          "height": 423
        },
        "id": "mFXtpZnQ_VCz",
        "outputId": "6483760f-f629-4aee-a9ea-7de13b574f0a"
      },
      "source": [
        "image_cluster[\"clusterid\"] = labels\n",
        "image_cluster"
      ],
      "execution_count": 76,
      "outputs": [
        {
          "output_type": "execute_result",
          "data": {
            "text/html": [
              "<div>\n",
              "<style scoped>\n",
              "    .dataframe tbody tr th:only-of-type {\n",
              "        vertical-align: middle;\n",
              "    }\n",
              "\n",
              "    .dataframe tbody tr th {\n",
              "        vertical-align: top;\n",
              "    }\n",
              "\n",
              "    .dataframe thead th {\n",
              "        text-align: right;\n",
              "    }\n",
              "</style>\n",
              "<table border=\"1\" class=\"dataframe\">\n",
              "  <thead>\n",
              "    <tr style=\"text-align: right;\">\n",
              "      <th></th>\n",
              "      <th>image</th>\n",
              "      <th>clusterid</th>\n",
              "    </tr>\n",
              "  </thead>\n",
              "  <tbody>\n",
              "    <tr>\n",
              "      <th>0</th>\n",
              "      <td>generated-images-001_e5.png</td>\n",
              "      <td>1</td>\n",
              "    </tr>\n",
              "    <tr>\n",
              "      <th>1</th>\n",
              "      <td>generated-images-002_e5.png</td>\n",
              "      <td>1</td>\n",
              "    </tr>\n",
              "    <tr>\n",
              "      <th>2</th>\n",
              "      <td>generated-images-003_e5.png</td>\n",
              "      <td>1</td>\n",
              "    </tr>\n",
              "    <tr>\n",
              "      <th>3</th>\n",
              "      <td>generated-images-004_e5.png</td>\n",
              "      <td>1</td>\n",
              "    </tr>\n",
              "    <tr>\n",
              "      <th>4</th>\n",
              "      <td>generated-images-005_e5.png</td>\n",
              "      <td>1</td>\n",
              "    </tr>\n",
              "    <tr>\n",
              "      <th>...</th>\n",
              "      <td>...</td>\n",
              "      <td>...</td>\n",
              "    </tr>\n",
              "    <tr>\n",
              "      <th>75</th>\n",
              "      <td>image_11.jpg</td>\n",
              "      <td>5</td>\n",
              "    </tr>\n",
              "    <tr>\n",
              "      <th>76</th>\n",
              "      <td>image_12.jpg</td>\n",
              "      <td>5</td>\n",
              "    </tr>\n",
              "    <tr>\n",
              "      <th>77</th>\n",
              "      <td>image_13.jpg</td>\n",
              "      <td>5</td>\n",
              "    </tr>\n",
              "    <tr>\n",
              "      <th>78</th>\n",
              "      <td>image_15.jpg</td>\n",
              "      <td>5</td>\n",
              "    </tr>\n",
              "    <tr>\n",
              "      <th>79</th>\n",
              "      <td>image_14.jpg</td>\n",
              "      <td>5</td>\n",
              "    </tr>\n",
              "  </tbody>\n",
              "</table>\n",
              "<p>80 rows × 2 columns</p>\n",
              "</div>"
            ],
            "text/plain": [
              "                          image  clusterid\n",
              "0   generated-images-001_e5.png          1\n",
              "1   generated-images-002_e5.png          1\n",
              "2   generated-images-003_e5.png          1\n",
              "3   generated-images-004_e5.png          1\n",
              "4   generated-images-005_e5.png          1\n",
              "..                          ...        ...\n",
              "75                 image_11.jpg          5\n",
              "76                 image_12.jpg          5\n",
              "77                 image_13.jpg          5\n",
              "78                 image_15.jpg          5\n",
              "79                 image_14.jpg          5\n",
              "\n",
              "[80 rows x 2 columns]"
            ]
          },
          "metadata": {},
          "execution_count": 76
        }
      ]
    },
    {
      "cell_type": "markdown",
      "metadata": {
        "id": "VBZW8LxfG2Qj"
      },
      "source": [
        "# Merging files "
      ]
    },
    {
      "cell_type": "code",
      "metadata": {
        "id": "fPeLjSlMG16y"
      },
      "source": [
        "# original_dir\n",
        "merged_dir = directory + '/merged_animes'\n",
        "anime_dir = directory + 'anime_original2'\n",
        "\n",
        "# for img in os.listdir(anime_dir):\n",
        "#   newPath = shutil.copy(anime_dir+'/'+img, merged_dir+'/'+img)"
      ],
      "execution_count": 84,
      "outputs": []
    },
    {
      "cell_type": "code",
      "metadata": {
        "colab": {
          "base_uri": "https://localhost:8080/"
        },
        "id": "NdDrWmitIACR",
        "outputId": "3426c84f-eec3-474b-a60a-6c600525f1f3"
      },
      "source": [
        "merged_dir_path=os.listdir(merged_dir)\n",
        "print(merged_dir_path)"
      ],
      "execution_count": 93,
      "outputs": [
        {
          "output_type": "stream",
          "name": "stdout",
          "text": [
            "['image_14.jpg', 'image_0.jpg', 'image_1.jpg', 'image_2.jpg', 'image_3.jpg', 'image_4.jpg', 'image_5.jpg', 'image_6.jpg', 'image_7.jpg', 'image_8.jpg', 'image_9.jpg', 'image_10.jpg', 'image_11.jpg', 'image_12.jpg', 'image_13.jpg', 'image_15.jpg', 'generated-images-000_e1.png', 'generated-images-001_e0.png', 'generated-images-002_e0.png', 'generated-images-003_e0.png', 'generated-images-004_e0.png', 'generated-images-005_e0.png', 'generated-images-006_e0.png', 'generated-images-007_e0.png', 'generated-images-008_e0.png', 'generated-images-009_e0.png', 'generated-images-010_e0.png', 'generated-images-011_e0.png', 'generated-images-012_e0.png', 'generated-images-013_e0.png', 'generated-images-014_e0.png', 'generated-images-015_e0.png', 'generated-images-016_e0.png', 'generated-images-001_e1.png', 'generated-images-002_e1.png', 'generated-images-003_e1.png', 'generated-images-004_e1.png', 'generated-images-005_e1.png', 'generated-images-006_e1.png', 'generated-images-007_e1.png', 'generated-images-008_e1.png', 'generated-images-009_e1.png', 'generated-images-010_e1.png', 'generated-images-011_e1.png', 'generated-images-012_e1.png', 'generated-images-013_e1.png', 'generated-images-014_e1.png', 'generated-images-015_e1.png', 'generated-images-016_e1.png', 'generated-images-001_e2.png', 'generated-images-002_e2.png', 'generated-images-003_e2.png', 'generated-images-004_e2.png', 'generated-images-005_e2.png', 'generated-images-006_e2.png', 'generated-images-007_e2.png', 'generated-images-008_e2.png', 'generated-images-009_e2.png', 'generated-images-010_e2.png', 'generated-images-011_e2.png', 'generated-images-012_e2.png', 'generated-images-013_e2.png', 'generated-images-014_e2.png', 'generated-images-015_e2.png', 'generated-images-016_e2.png', 'generated-images-001_e3.png', 'generated-images-002_e3.png', 'generated-images-003_e3.png', 'generated-images-004_e3.png', 'generated-images-005_e3.png', 'generated-images-006_e3.png', 'generated-images-007_e3.png', 'generated-images-008_e3.png', 'generated-images-009_e3.png', 'generated-images-010_e3.png', 'generated-images-011_e3.png', 'generated-images-012_e3.png', 'generated-images-013_e3.png', 'generated-images-014_e3.png', 'generated-images-015_e3.png', 'generated-images-016_e3.png', 'generated-images-001_e4.png', 'generated-images-002_e4.png', 'generated-images-003_e4.png', 'generated-images-004_e4.png', 'generated-images-005_e4.png', 'generated-images-006_e4.png', 'generated-images-007_e4.png', 'generated-images-008_e4.png', 'generated-images-009_e4.png', 'generated-images-010_e4.png', 'generated-images-011_e4.png', 'generated-images-012_e4.png', 'generated-images-013_e4.png', 'generated-images-014_e4.png', 'generated-images-015_e4.png', 'generated-images-016_e4.png', 'generated-images-001_e5.png', 'generated-images-002_e5.png', 'generated-images-003_e5.png', 'generated-images-004_e5.png', 'generated-images-005_e5.png', 'generated-images-006_e5.png', 'generated-images-007_e5.png', 'generated-images-008_e5.png', 'generated-images-009_e5.png', 'generated-images-010_e5.png', 'generated-images-011_e5.png', 'generated-images-012_e5.png', 'generated-images-013_e5.png', 'generated-images-014_e5.png', 'generated-images-015_e5.png', 'generated-images-016_e5.png', 'generated-images-001_e6.png', 'generated-images-002_e6.png', 'generated-images-003_e6.png', 'generated-images-004_e6.png', 'generated-images-005_e6.png', 'generated-images-006_e6.png', 'generated-images-007_e6.png', 'generated-images-008_e6.png', 'generated-images-009_e6.png', 'generated-images-010_e6.png', 'generated-images-011_e6.png', 'generated-images-012_e6.png', 'generated-images-013_e6.png', 'generated-images-014_e6.png', 'generated-images-015_e6.png', 'generated-images-016_e6.png', 'generated-images-001_e7.png', 'generated-images-002_e7.png', 'generated-images-003_e7.png', 'generated-images-004_e7.png', 'generated-images-005_e7.png', 'generated-images-006_e7.png', 'generated-images-007_e7.png', 'generated-images-008_e7.png', 'generated-images-009_e7.png', 'generated-images-010_e7.png', 'generated-images-011_e7.png', 'generated-images-012_e7.png', 'generated-images-013_e7.png', 'generated-images-014_e7.png', 'generated-images-015_e7.png', 'generated-images-016_e7.png', 'generated-images-001_e8.png', 'generated-images-002_e8.png', 'generated-images-003_e8.png', 'generated-images-004_e8.png', 'generated-images-005_e8.png', 'generated-images-006_e8.png', 'generated-images-007_e8.png', 'generated-images-008_e8.png', 'generated-images-009_e8.png', 'generated-images-010_e8.png', 'generated-images-011_e8.png', 'generated-images-012_e8.png', 'generated-images-013_e8.png', 'generated-images-014_e8.png', 'generated-images-015_e8.png', 'generated-images-016_e8.png', 'generated-images-001_e9.png', 'generated-images-002_e9.png', 'generated-images-003_e9.png', 'generated-images-004_e9.png', 'generated-images-005_e9.png', 'generated-images-006_e9.png', 'generated-images-007_e9.png', 'generated-images-008_e9.png', 'generated-images-009_e9.png', 'generated-images-010_e9.png', 'generated-images-011_e9.png', 'generated-images-012_e9.png', 'generated-images-013_e9.png', 'generated-images-014_e9.png', 'generated-images-015_e9.png', 'generated-images-016_e9.png', 'generated-images-001_e10.png', 'generated-images-002_e10.png', 'generated-images-003_e10.png', 'generated-images-004_e10.png', 'generated-images-005_e10.png', 'generated-images-006_e10.png', 'generated-images-007_e10.png', 'generated-images-008_e10.png', 'generated-images-009_e10.png', 'generated-images-010_e10.png', 'generated-images-011_e10.png', 'generated-images-012_e10.png', 'generated-images-013_e10.png', 'generated-images-014_e10.png', 'generated-images-015_e10.png', 'generated-images-016_e10.png', 'generated-images-001_e11.png', 'generated-images-002_e11.png', 'generated-images-003_e11.png', 'generated-images-004_e11.png', 'generated-images-005_e11.png', 'generated-images-006_e11.png', 'generated-images-007_e11.png', 'generated-images-008_e11.png', 'generated-images-009_e11.png', 'generated-images-010_e11.png', 'generated-images-011_e11.png', 'generated-images-012_e11.png', 'generated-images-013_e11.png', 'generated-images-014_e11.png', 'generated-images-015_e11.png', 'generated-images-016_e11.png', 'generated-images-001_e12.png', 'generated-images-002_e12.png', 'generated-images-003_e12.png', 'generated-images-004_e12.png', 'generated-images-005_e12.png', 'generated-images-006_e12.png', 'generated-images-007_e12.png', 'generated-images-008_e12.png', 'generated-images-009_e12.png', 'generated-images-010_e12.png', 'generated-images-011_e12.png', 'generated-images-012_e12.png', 'generated-images-013_e12.png', 'generated-images-014_e12.png', 'generated-images-015_e12.png', 'generated-images-016_e12.png', 'generated-images-001_e13.png', 'generated-images-002_e13.png', 'generated-images-003_e13.png', 'generated-images-004_e13.png', 'generated-images-005_e13.png', 'generated-images-006_e13.png', 'generated-images-007_e13.png', 'generated-images-008_e13.png', 'generated-images-009_e13.png', 'generated-images-010_e13.png', 'generated-images-011_e13.png', 'generated-images-012_e13.png', 'generated-images-013_e13.png', 'generated-images-014_e13.png', 'generated-images-015_e13.png', 'generated-images-016_e13.png', 'generated-images-001_e14.png', 'generated-images-002_e14.png', 'generated-images-003_e14.png', 'generated-images-004_e14.png', 'generated-images-005_e14.png', 'generated-images-006_e14.png', 'generated-images-007_e14.png', 'generated-images-008_e14.png', 'generated-images-009_e14.png', 'generated-images-010_e14.png', 'generated-images-011_e14.png', 'generated-images-012_e14.png', 'generated-images-013_e14.png', 'generated-images-014_e14.png', 'generated-images-015_e14.png', 'generated-images-016_e14.png', 'generated-images-001_e15.png', 'generated-images-002_e15.png', 'generated-images-003_e15.png', 'generated-images-004_e15.png', 'generated-images-005_e15.png', 'generated-images-006_e15.png', 'generated-images-007_e15.png', 'generated-images-008_e15.png', 'generated-images-009_e15.png', 'generated-images-010_e15.png', 'generated-images-011_e15.png', 'generated-images-012_e15.png', 'generated-images-013_e15.png', 'generated-images-014_e15.png', 'generated-images-015_e15.png', 'generated-images-016_e15.png', 'generated-images-001_e16.png', 'generated-images-002_e16.png', 'generated-images-003_e16.png', 'generated-images-004_e16.png', 'generated-images-005_e16.png', 'generated-images-006_e16.png', 'generated-images-007_e16.png', 'generated-images-008_e16.png', 'generated-images-009_e16.png', 'generated-images-010_e16.png', 'generated-images-011_e16.png', 'generated-images-012_e16.png', 'generated-images-013_e16.png', 'generated-images-014_e16.png', 'generated-images-015_e16.png', 'generated-images-016_e16.png', 'generated-images-001_e17.png', 'generated-images-002_e17.png', 'generated-images-003_e17.png', 'generated-images-004_e17.png', 'generated-images-005_e17.png', 'generated-images-006_e17.png', 'generated-images-007_e17.png', 'generated-images-008_e17.png', 'generated-images-009_e17.png', 'generated-images-010_e17.png', 'generated-images-011_e17.png', 'generated-images-012_e17.png', 'generated-images-013_e17.png', 'generated-images-014_e17.png', 'generated-images-015_e17.png', 'generated-images-016_e17.png', 'generated-images-001_e18.png', 'generated-images-002_e18.png', 'generated-images-003_e18.png', 'generated-images-004_e18.png', 'generated-images-005_e18.png', 'generated-images-006_e18.png', 'generated-images-007_e18.png', 'generated-images-008_e18.png', 'generated-images-009_e18.png', 'generated-images-010_e18.png', 'generated-images-011_e18.png', 'generated-images-012_e18.png', 'generated-images-013_e18.png', 'generated-images-014_e18.png', 'generated-images-015_e18.png', 'generated-images-016_e18.png', 'generated-images-001_e19.png', 'generated-images-002_e19.png', 'generated-images-003_e19.png', 'generated-images-004_e19.png', 'generated-images-005_e19.png', 'generated-images-006_e19.png', 'generated-images-007_e19.png', 'generated-images-008_e19.png', 'generated-images-009_e19.png', 'generated-images-010_e19.png', 'generated-images-011_e19.png', 'generated-images-012_e19.png', 'generated-images-013_e19.png', 'generated-images-014_e19.png', 'generated-images-015_e19.png', 'generated-images-016_e19.png', 'generated-images-001_e20.png', 'generated-images-002_e20.png', 'generated-images-003_e20.png', 'generated-images-004_e20.png', 'generated-images-005_e20.png', 'generated-images-006_e20.png', 'generated-images-007_e20.png', 'generated-images-008_e20.png', 'generated-images-009_e20.png', 'generated-images-010_e20.png', 'generated-images-011_e20.png', 'generated-images-012_e20.png', 'generated-images-013_e20.png', 'generated-images-014_e20.png', 'generated-images-015_e20.png', 'generated-images-016_e20.png', 'generated-images-001_e21.png', 'generated-images-002_e21.png', 'generated-images-003_e21.png', 'generated-images-004_e21.png', 'generated-images-005_e21.png', 'generated-images-006_e21.png', 'generated-images-007_e21.png', 'generated-images-008_e21.png', 'generated-images-009_e21.png', 'generated-images-010_e21.png', 'generated-images-011_e21.png', 'generated-images-012_e21.png', 'generated-images-013_e21.png', 'generated-images-014_e21.png', 'generated-images-015_e21.png', 'generated-images-016_e21.png', 'generated-images-001_e22.png', 'generated-images-002_e22.png', 'generated-images-003_e22.png', 'generated-images-004_e22.png', 'generated-images-005_e22.png', 'generated-images-006_e22.png', 'generated-images-007_e22.png', 'generated-images-008_e22.png', 'generated-images-009_e22.png', 'generated-images-010_e22.png', 'generated-images-011_e22.png', 'generated-images-012_e22.png', 'generated-images-013_e22.png', 'generated-images-014_e22.png', 'generated-images-015_e22.png', 'generated-images-016_e22.png', 'generated-images-001_e23.png', 'generated-images-002_e23.png', 'generated-images-003_e23.png', 'generated-images-004_e23.png', 'generated-images-005_e23.png', 'generated-images-006_e23.png', 'generated-images-007_e23.png', 'generated-images-008_e23.png', 'generated-images-009_e23.png', 'generated-images-010_e23.png', 'generated-images-011_e23.png', 'generated-images-012_e23.png', 'generated-images-013_e23.png', 'generated-images-014_e23.png', 'generated-images-015_e23.png', 'generated-images-016_e23.png', 'generated-images-001_e24.png', 'generated-images-002_e24.png', 'generated-images-003_e24.png', 'generated-images-004_e24.png', 'generated-images-005_e24.png', 'generated-images-006_e24.png', 'generated-images-007_e24.png', 'generated-images-008_e24.png', 'generated-images-009_e24.png', 'generated-images-010_e24.png', 'generated-images-011_e24.png', 'generated-images-012_e24.png', 'generated-images-013_e24.png', 'generated-images-014_e24.png', 'generated-images-015_e24.png', 'generated-images-016_e24.png', 'generated-images-001_e25.png', 'generated-images-002_e25.png', 'generated-images-003_e25.png', 'generated-images-004_e25.png', 'generated-images-005_e25.png', 'generated-images-006_e25.png', 'generated-images-007_e25.png', 'generated-images-008_e25.png', 'generated-images-009_e25.png', 'generated-images-010_e25.png', 'generated-images-011_e25.png', 'generated-images-012_e25.png', 'generated-images-013_e25.png', 'generated-images-014_e25.png', 'generated-images-015_e25.png', 'generated-images-016_e25.png', 'generated-images-001_e26.png', 'generated-images-002_e26.png', 'generated-images-003_e26.png', 'generated-images-004_e26.png', 'generated-images-005_e26.png', 'generated-images-006_e26.png', 'generated-images-007_e26.png', 'generated-images-008_e26.png', 'generated-images-009_e26.png', 'generated-images-010_e26.png', 'generated-images-011_e26.png', 'generated-images-012_e26.png', 'generated-images-013_e26.png', 'generated-images-014_e26.png', 'generated-images-015_e26.png', 'generated-images-016_e26.png', 'generated-images-001_e27.png', 'generated-images-002_e27.png', 'generated-images-003_e27.png', 'generated-images-004_e27.png', 'generated-images-005_e27.png', 'generated-images-006_e27.png', 'generated-images-007_e27.png', 'generated-images-008_e27.png', 'generated-images-009_e27.png', 'generated-images-010_e27.png', 'generated-images-011_e27.png', 'generated-images-012_e27.png', 'generated-images-013_e27.png', 'generated-images-014_e27.png', 'generated-images-015_e27.png', 'generated-images-016_e27.png', 'generated-images-001_e28.png', 'generated-images-002_e28.png', 'generated-images-003_e28.png', 'generated-images-004_e28.png', 'generated-images-005_e28.png', 'generated-images-006_e28.png', 'generated-images-007_e28.png', 'generated-images-008_e28.png', 'generated-images-009_e28.png', 'generated-images-010_e28.png', 'generated-images-011_e28.png', 'generated-images-012_e28.png', 'generated-images-013_e28.png', 'generated-images-014_e28.png', 'generated-images-015_e28.png', 'generated-images-016_e28.png', 'generated-images-001_e29.png', 'generated-images-002_e29.png', 'generated-images-003_e29.png', 'generated-images-004_e29.png', 'generated-images-005_e29.png', 'generated-images-006_e29.png', 'generated-images-007_e29.png', 'generated-images-008_e29.png', 'generated-images-009_e29.png', 'generated-images-010_e29.png', 'generated-images-011_e29.png', 'generated-images-012_e29.png', 'generated-images-013_e29.png', 'generated-images-014_e29.png', 'generated-images-015_e29.png', 'generated-images-016_e29.png', 'generated-images-001_e30.png', 'generated-images-002_e30.png', 'generated-images-003_e30.png', 'generated-images-004_e30.png', 'generated-images-005_e30.png', 'generated-images-006_e30.png', 'generated-images-007_e30.png', 'generated-images-008_e30.png', 'generated-images-009_e30.png', 'generated-images-010_e30.png', 'generated-images-011_e30.png', 'generated-images-012_e30.png', 'generated-images-013_e30.png', 'generated-images-014_e30.png', 'generated-images-015_e30.png', 'generated-images-016_e30.png', 'generated-images-001_e31.png', 'generated-images-002_e31.png', 'generated-images-003_e31.png', 'generated-images-004_e31.png', 'generated-images-005_e31.png', 'generated-images-006_e31.png', 'generated-images-007_e31.png', 'generated-images-008_e31.png', 'generated-images-009_e31.png', 'generated-images-010_e31.png', 'generated-images-011_e31.png', 'generated-images-012_e31.png', 'generated-images-013_e31.png', 'generated-images-014_e31.png', 'generated-images-015_e31.png', 'generated-images-016_e31.png', 'generated-images-001_e32.png', 'generated-images-002_e32.png', 'generated-images-003_e32.png', 'generated-images-004_e32.png', 'generated-images-005_e32.png', 'generated-images-006_e32.png', 'generated-images-007_e32.png', 'generated-images-008_e32.png', 'generated-images-009_e32.png', 'generated-images-010_e32.png', 'generated-images-011_e32.png', 'generated-images-012_e32.png', 'generated-images-013_e32.png', 'generated-images-014_e32.png', 'generated-images-015_e32.png', 'generated-images-016_e32.png', 'generated-images-001_e33.png', 'generated-images-002_e33.png', 'generated-images-003_e33.png', 'generated-images-004_e33.png', 'generated-images-005_e33.png', 'generated-images-006_e33.png', 'generated-images-007_e33.png', 'generated-images-008_e33.png', 'generated-images-009_e33.png', 'generated-images-010_e33.png', 'generated-images-011_e33.png', 'generated-images-012_e33.png', 'generated-images-013_e33.png', 'generated-images-014_e33.png', 'generated-images-015_e33.png', 'generated-images-016_e33.png', 'generated-images-001_e34.png', 'generated-images-002_e34.png', 'generated-images-003_e34.png', 'generated-images-004_e34.png', 'generated-images-005_e34.png', 'generated-images-006_e34.png', 'generated-images-007_e34.png', 'generated-images-008_e34.png', 'generated-images-009_e34.png', 'generated-images-010_e34.png', 'generated-images-011_e34.png', 'generated-images-012_e34.png', 'generated-images-013_e34.png', 'generated-images-014_e34.png', 'generated-images-015_e34.png', 'generated-images-016_e34.png', 'generated-images-001_e35.png', 'generated-images-002_e35.png', 'generated-images-003_e35.png', 'generated-images-004_e35.png', 'generated-images-005_e35.png', 'generated-images-006_e35.png', 'generated-images-007_e35.png', 'generated-images-008_e35.png', 'generated-images-009_e35.png', 'generated-images-010_e35.png', 'generated-images-011_e35.png', 'generated-images-012_e35.png', 'generated-images-013_e35.png', 'generated-images-014_e35.png', 'generated-images-015_e35.png', 'generated-images-016_e35.png', 'generated-images-001_e36.png', 'generated-images-002_e36.png', 'generated-images-003_e36.png', 'generated-images-004_e36.png', 'generated-images-005_e36.png', 'generated-images-006_e36.png', 'generated-images-007_e36.png', 'generated-images-008_e36.png', 'generated-images-009_e36.png', 'generated-images-010_e36.png', 'generated-images-011_e36.png', 'generated-images-012_e36.png', 'generated-images-013_e36.png', 'generated-images-014_e36.png', 'generated-images-015_e36.png', 'generated-images-016_e36.png', 'generated-images-001_e37.png', 'generated-images-002_e37.png', 'generated-images-003_e37.png', 'generated-images-004_e37.png', 'generated-images-005_e37.png', 'generated-images-006_e37.png', 'generated-images-007_e37.png', 'generated-images-008_e37.png', 'generated-images-009_e37.png', 'generated-images-010_e37.png', 'generated-images-011_e37.png', 'generated-images-012_e37.png', 'generated-images-013_e37.png', 'generated-images-014_e37.png', 'generated-images-015_e37.png', 'generated-images-016_e37.png', 'generated-images-001_e38.png', 'generated-images-002_e38.png', 'generated-images-003_e38.png', 'generated-images-004_e38.png', 'generated-images-005_e38.png', 'generated-images-006_e38.png', 'generated-images-007_e38.png', 'generated-images-008_e38.png', 'generated-images-009_e38.png', 'generated-images-010_e38.png', 'generated-images-011_e38.png', 'generated-images-012_e38.png', 'generated-images-013_e38.png', 'generated-images-014_e38.png', 'generated-images-015_e38.png', 'generated-images-016_e38.png', 'generated-images-001_e39.png', 'generated-images-002_e39.png', 'generated-images-003_e39.png', 'generated-images-004_e39.png', 'generated-images-005_e39.png', 'generated-images-006_e39.png', 'generated-images-007_e39.png', 'generated-images-008_e39.png', 'generated-images-009_e39.png', 'generated-images-010_e39.png', 'generated-images-011_e39.png', 'generated-images-012_e39.png', 'generated-images-013_e39.png', 'generated-images-014_e39.png', 'generated-images-015_e39.png', 'generated-images-016_e39.png']\n"
          ]
        }
      ]
    },
    {
      "cell_type": "code",
      "metadata": {
        "id": "vUHMHtj9Ilk8"
      },
      "source": [
        "# for img in os.listdir(images_dir):\n",
        "#   newPath = shutil.copy(images_dir+'/'+img, merged_dir+'/'+img)"
      ],
      "execution_count": 88,
      "outputs": []
    },
    {
      "cell_type": "code",
      "metadata": {
        "colab": {
          "base_uri": "https://localhost:8080/"
        },
        "id": "7SWiV6iZKJ5X",
        "outputId": "3fd50eb1-9b18-4255-d40b-7952866f1926"
      },
      "source": [
        "merged_images_to_cluster = []\n",
        "for img in merged_dir_path:\n",
        "  if '_e5' in img or '_e10' in img or '_e20' in img or '_e39' in img or 'image_' in img:\n",
        "    merged_images_to_cluster.append(img)\n",
        "\n",
        "print(merged_images_to_cluster)"
      ],
      "execution_count": 94,
      "outputs": [
        {
          "output_type": "stream",
          "name": "stdout",
          "text": [
            "['image_14.jpg', 'image_0.jpg', 'image_1.jpg', 'image_2.jpg', 'image_3.jpg', 'image_4.jpg', 'image_5.jpg', 'image_6.jpg', 'image_7.jpg', 'image_8.jpg', 'image_9.jpg', 'image_10.jpg', 'image_11.jpg', 'image_12.jpg', 'image_13.jpg', 'image_15.jpg', 'generated-images-001_e5.png', 'generated-images-002_e5.png', 'generated-images-003_e5.png', 'generated-images-004_e5.png', 'generated-images-005_e5.png', 'generated-images-006_e5.png', 'generated-images-007_e5.png', 'generated-images-008_e5.png', 'generated-images-009_e5.png', 'generated-images-010_e5.png', 'generated-images-011_e5.png', 'generated-images-012_e5.png', 'generated-images-013_e5.png', 'generated-images-014_e5.png', 'generated-images-015_e5.png', 'generated-images-016_e5.png', 'generated-images-001_e10.png', 'generated-images-002_e10.png', 'generated-images-003_e10.png', 'generated-images-004_e10.png', 'generated-images-005_e10.png', 'generated-images-006_e10.png', 'generated-images-007_e10.png', 'generated-images-008_e10.png', 'generated-images-009_e10.png', 'generated-images-010_e10.png', 'generated-images-011_e10.png', 'generated-images-012_e10.png', 'generated-images-013_e10.png', 'generated-images-014_e10.png', 'generated-images-015_e10.png', 'generated-images-016_e10.png', 'generated-images-001_e20.png', 'generated-images-002_e20.png', 'generated-images-003_e20.png', 'generated-images-004_e20.png', 'generated-images-005_e20.png', 'generated-images-006_e20.png', 'generated-images-007_e20.png', 'generated-images-008_e20.png', 'generated-images-009_e20.png', 'generated-images-010_e20.png', 'generated-images-011_e20.png', 'generated-images-012_e20.png', 'generated-images-013_e20.png', 'generated-images-014_e20.png', 'generated-images-015_e20.png', 'generated-images-016_e20.png', 'generated-images-001_e39.png', 'generated-images-002_e39.png', 'generated-images-003_e39.png', 'generated-images-004_e39.png', 'generated-images-005_e39.png', 'generated-images-006_e39.png', 'generated-images-007_e39.png', 'generated-images-008_e39.png', 'generated-images-009_e39.png', 'generated-images-010_e39.png', 'generated-images-011_e39.png', 'generated-images-012_e39.png', 'generated-images-013_e39.png', 'generated-images-014_e39.png', 'generated-images-015_e39.png', 'generated-images-016_e39.png']\n"
          ]
        }
      ]
    },
    {
      "cell_type": "code",
      "metadata": {
        "colab": {
          "base_uri": "https://localhost:8080/",
          "height": 423
        },
        "id": "19AO-ZuQK4IG",
        "outputId": "07954d3c-a9ed-48ce-f06e-db46f6d62fdd"
      },
      "source": [
        "image_cluster_merged = pd.DataFrame(merged_images_to_cluster, columns=['image'])\n",
        "image_cluster_merged"
      ],
      "execution_count": 155,
      "outputs": [
        {
          "output_type": "execute_result",
          "data": {
            "text/html": [
              "<div>\n",
              "<style scoped>\n",
              "    .dataframe tbody tr th:only-of-type {\n",
              "        vertical-align: middle;\n",
              "    }\n",
              "\n",
              "    .dataframe tbody tr th {\n",
              "        vertical-align: top;\n",
              "    }\n",
              "\n",
              "    .dataframe thead th {\n",
              "        text-align: right;\n",
              "    }\n",
              "</style>\n",
              "<table border=\"1\" class=\"dataframe\">\n",
              "  <thead>\n",
              "    <tr style=\"text-align: right;\">\n",
              "      <th></th>\n",
              "      <th>image</th>\n",
              "    </tr>\n",
              "  </thead>\n",
              "  <tbody>\n",
              "    <tr>\n",
              "      <th>0</th>\n",
              "      <td>image_14.jpg</td>\n",
              "    </tr>\n",
              "    <tr>\n",
              "      <th>1</th>\n",
              "      <td>image_0.jpg</td>\n",
              "    </tr>\n",
              "    <tr>\n",
              "      <th>2</th>\n",
              "      <td>image_1.jpg</td>\n",
              "    </tr>\n",
              "    <tr>\n",
              "      <th>3</th>\n",
              "      <td>image_2.jpg</td>\n",
              "    </tr>\n",
              "    <tr>\n",
              "      <th>4</th>\n",
              "      <td>image_3.jpg</td>\n",
              "    </tr>\n",
              "    <tr>\n",
              "      <th>...</th>\n",
              "      <td>...</td>\n",
              "    </tr>\n",
              "    <tr>\n",
              "      <th>75</th>\n",
              "      <td>generated-images-012_e39.png</td>\n",
              "    </tr>\n",
              "    <tr>\n",
              "      <th>76</th>\n",
              "      <td>generated-images-013_e39.png</td>\n",
              "    </tr>\n",
              "    <tr>\n",
              "      <th>77</th>\n",
              "      <td>generated-images-014_e39.png</td>\n",
              "    </tr>\n",
              "    <tr>\n",
              "      <th>78</th>\n",
              "      <td>generated-images-015_e39.png</td>\n",
              "    </tr>\n",
              "    <tr>\n",
              "      <th>79</th>\n",
              "      <td>generated-images-016_e39.png</td>\n",
              "    </tr>\n",
              "  </tbody>\n",
              "</table>\n",
              "<p>80 rows × 1 columns</p>\n",
              "</div>"
            ],
            "text/plain": [
              "                           image\n",
              "0                   image_14.jpg\n",
              "1                    image_0.jpg\n",
              "2                    image_1.jpg\n",
              "3                    image_2.jpg\n",
              "4                    image_3.jpg\n",
              "..                           ...\n",
              "75  generated-images-012_e39.png\n",
              "76  generated-images-013_e39.png\n",
              "77  generated-images-014_e39.png\n",
              "78  generated-images-015_e39.png\n",
              "79  generated-images-016_e39.png\n",
              "\n",
              "[80 rows x 1 columns]"
            ]
          },
          "metadata": {},
          "execution_count": 155
        }
      ]
    },
    {
      "cell_type": "code",
      "metadata": {
        "id": "sYd2gCGgLDsh"
      },
      "source": [
        "merged_labels = []\n",
        "for img in merged_images_to_cluster:\n",
        "  if '_e5' in img:\n",
        "    merged_labels.append(0)\n",
        "  elif '_e10' in img:\n",
        "    merged_labels.append(1)\n",
        "  elif '_e20' in img:\n",
        "    merged_labels.append(2)\n",
        "  elif '_e39' in img:\n",
        "    merged_labels.append(3)\n",
        "  else:\n",
        "    merged_labels.append(4)  "
      ],
      "execution_count": 150,
      "outputs": []
    },
    {
      "cell_type": "code",
      "metadata": {
        "colab": {
          "base_uri": "https://localhost:8080/"
        },
        "id": "9cuR0dU3LRQe",
        "outputId": "800a66a2-59e0-4474-cfba-255f06c806ea"
      },
      "source": [
        "print(merged_labels)"
      ],
      "execution_count": 151,
      "outputs": [
        {
          "output_type": "stream",
          "name": "stdout",
          "text": [
            "[4, 4, 4, 4, 4, 4, 4, 4, 4, 4, 4, 4, 4, 4, 4, 4, 0, 0, 0, 0, 0, 0, 0, 0, 0, 0, 0, 0, 0, 0, 0, 0, 1, 1, 1, 1, 1, 1, 1, 1, 1, 1, 1, 1, 1, 1, 1, 1, 2, 2, 2, 2, 2, 2, 2, 2, 2, 2, 2, 2, 2, 2, 2, 2, 3, 3, 3, 3, 3, 3, 3, 3, 3, 3, 3, 3, 3, 3, 3, 3]\n"
          ]
        }
      ]
    },
    {
      "cell_type": "code",
      "metadata": {
        "colab": {
          "base_uri": "https://localhost:8080/",
          "height": 423
        },
        "id": "oC37PCANL5Lb",
        "outputId": "ee9f4408-1369-4347-8c91-98225d334623"
      },
      "source": [
        "image_cluster_merged[\"clusterid\"] = merged_labels\n",
        "image_cluster_merged"
      ],
      "execution_count": 156,
      "outputs": [
        {
          "output_type": "execute_result",
          "data": {
            "text/html": [
              "<div>\n",
              "<style scoped>\n",
              "    .dataframe tbody tr th:only-of-type {\n",
              "        vertical-align: middle;\n",
              "    }\n",
              "\n",
              "    .dataframe tbody tr th {\n",
              "        vertical-align: top;\n",
              "    }\n",
              "\n",
              "    .dataframe thead th {\n",
              "        text-align: right;\n",
              "    }\n",
              "</style>\n",
              "<table border=\"1\" class=\"dataframe\">\n",
              "  <thead>\n",
              "    <tr style=\"text-align: right;\">\n",
              "      <th></th>\n",
              "      <th>image</th>\n",
              "      <th>clusterid</th>\n",
              "    </tr>\n",
              "  </thead>\n",
              "  <tbody>\n",
              "    <tr>\n",
              "      <th>0</th>\n",
              "      <td>image_14.jpg</td>\n",
              "      <td>4</td>\n",
              "    </tr>\n",
              "    <tr>\n",
              "      <th>1</th>\n",
              "      <td>image_0.jpg</td>\n",
              "      <td>4</td>\n",
              "    </tr>\n",
              "    <tr>\n",
              "      <th>2</th>\n",
              "      <td>image_1.jpg</td>\n",
              "      <td>4</td>\n",
              "    </tr>\n",
              "    <tr>\n",
              "      <th>3</th>\n",
              "      <td>image_2.jpg</td>\n",
              "      <td>4</td>\n",
              "    </tr>\n",
              "    <tr>\n",
              "      <th>4</th>\n",
              "      <td>image_3.jpg</td>\n",
              "      <td>4</td>\n",
              "    </tr>\n",
              "    <tr>\n",
              "      <th>...</th>\n",
              "      <td>...</td>\n",
              "      <td>...</td>\n",
              "    </tr>\n",
              "    <tr>\n",
              "      <th>75</th>\n",
              "      <td>generated-images-012_e39.png</td>\n",
              "      <td>3</td>\n",
              "    </tr>\n",
              "    <tr>\n",
              "      <th>76</th>\n",
              "      <td>generated-images-013_e39.png</td>\n",
              "      <td>3</td>\n",
              "    </tr>\n",
              "    <tr>\n",
              "      <th>77</th>\n",
              "      <td>generated-images-014_e39.png</td>\n",
              "      <td>3</td>\n",
              "    </tr>\n",
              "    <tr>\n",
              "      <th>78</th>\n",
              "      <td>generated-images-015_e39.png</td>\n",
              "      <td>3</td>\n",
              "    </tr>\n",
              "    <tr>\n",
              "      <th>79</th>\n",
              "      <td>generated-images-016_e39.png</td>\n",
              "      <td>3</td>\n",
              "    </tr>\n",
              "  </tbody>\n",
              "</table>\n",
              "<p>80 rows × 2 columns</p>\n",
              "</div>"
            ],
            "text/plain": [
              "                           image  clusterid\n",
              "0                   image_14.jpg          4\n",
              "1                    image_0.jpg          4\n",
              "2                    image_1.jpg          4\n",
              "3                    image_2.jpg          4\n",
              "4                    image_3.jpg          4\n",
              "..                           ...        ...\n",
              "75  generated-images-012_e39.png          3\n",
              "76  generated-images-013_e39.png          3\n",
              "77  generated-images-014_e39.png          3\n",
              "78  generated-images-015_e39.png          3\n",
              "79  generated-images-016_e39.png          3\n",
              "\n",
              "[80 rows x 2 columns]"
            ]
          },
          "metadata": {},
          "execution_count": 156
        }
      ]
    },
    {
      "cell_type": "markdown",
      "metadata": {
        "id": "xbYhdUPX1SR2"
      },
      "source": [
        "# **K-Means**"
      ]
    },
    {
      "cell_type": "markdown",
      "metadata": {
        "id": "hq0GiwfmBVCR"
      },
      "source": [
        "# Inception"
      ]
    },
    {
      "cell_type": "code",
      "metadata": {
        "id": "o_FEDhYCx2fg"
      },
      "source": [
        "from tensorflow.keras.applications.inception_v3 import InceptionV3\n",
        "from tensorflow.keras.applications.inception_v3 import preprocess_input"
      ],
      "execution_count": 27,
      "outputs": []
    },
    {
      "cell_type": "code",
      "metadata": {
        "id": "GVHhMdFgMPVg"
      },
      "source": [
        "def image_feature_merged():\n",
        "    model = InceptionV3(weights='imagenet', include_top=False)\n",
        "    features = [];\n",
        "    img_name = [];\n",
        "    for i in tqdm(merged_images_to_cluster):\n",
        "        fname= merged_dir + '/' + i\n",
        "        img=image.load_img(fname,target_size=(224,224))\n",
        "        x = img_to_array(img)\n",
        "        x=np.expand_dims(x,axis=0)\n",
        "        x=preprocess_input(x)\n",
        "        feat=model.predict(x)\n",
        "        feat=feat.flatten()\n",
        "        features.append(feat)\n",
        "        img_name.append(i)\n",
        "    return features,img_name"
      ],
      "execution_count": 110,
      "outputs": []
    },
    {
      "cell_type": "code",
      "metadata": {
        "colab": {
          "base_uri": "https://localhost:8080/"
        },
        "id": "pbZ3Pu0bM7cV",
        "outputId": "9a0b9fe7-a689-449f-8fb4-b3379abefd62"
      },
      "source": [
        "img_features_merged, img_name_merged = image_feature_merged()"
      ],
      "execution_count": 111,
      "outputs": [
        {
          "output_type": "stream",
          "name": "stderr",
          "text": [
            "100%|██████████| 80/80 [00:14<00:00,  5.54it/s]\n"
          ]
        }
      ]
    },
    {
      "cell_type": "code",
      "metadata": {
        "colab": {
          "base_uri": "https://localhost:8080/"
        },
        "id": "jQeDhLT4NU5l",
        "outputId": "30f332ef-0dda-4b1e-ce9f-0df554da4445"
      },
      "source": [
        "k = 5\n",
        "clusters2 = KMeans(k, random_state = 40)\n",
        "clusters2.fit(img_features_merged)"
      ],
      "execution_count": 112,
      "outputs": [
        {
          "output_type": "execute_result",
          "data": {
            "text/plain": [
              "KMeans(n_clusters=5, random_state=40)"
            ]
          },
          "metadata": {},
          "execution_count": 112
        }
      ]
    },
    {
      "cell_type": "code",
      "metadata": {
        "colab": {
          "base_uri": "https://localhost:8080/",
          "height": 423
        },
        "id": "guFBGR46Ne7E",
        "outputId": "a84539b1-d13c-494b-aa46-48b07da71b97"
      },
      "source": [
        "image_cluster_merged[\"Inception_predicted_clusterid\"] = clusters2.labels_ \n",
        "image_cluster_merged"
      ],
      "execution_count": 157,
      "outputs": [
        {
          "output_type": "execute_result",
          "data": {
            "text/html": [
              "<div>\n",
              "<style scoped>\n",
              "    .dataframe tbody tr th:only-of-type {\n",
              "        vertical-align: middle;\n",
              "    }\n",
              "\n",
              "    .dataframe tbody tr th {\n",
              "        vertical-align: top;\n",
              "    }\n",
              "\n",
              "    .dataframe thead th {\n",
              "        text-align: right;\n",
              "    }\n",
              "</style>\n",
              "<table border=\"1\" class=\"dataframe\">\n",
              "  <thead>\n",
              "    <tr style=\"text-align: right;\">\n",
              "      <th></th>\n",
              "      <th>image</th>\n",
              "      <th>clusterid</th>\n",
              "      <th>Inception_predicted_clusterid</th>\n",
              "    </tr>\n",
              "  </thead>\n",
              "  <tbody>\n",
              "    <tr>\n",
              "      <th>0</th>\n",
              "      <td>image_14.jpg</td>\n",
              "      <td>4</td>\n",
              "      <td>2</td>\n",
              "    </tr>\n",
              "    <tr>\n",
              "      <th>1</th>\n",
              "      <td>image_0.jpg</td>\n",
              "      <td>4</td>\n",
              "      <td>1</td>\n",
              "    </tr>\n",
              "    <tr>\n",
              "      <th>2</th>\n",
              "      <td>image_1.jpg</td>\n",
              "      <td>4</td>\n",
              "      <td>2</td>\n",
              "    </tr>\n",
              "    <tr>\n",
              "      <th>3</th>\n",
              "      <td>image_2.jpg</td>\n",
              "      <td>4</td>\n",
              "      <td>2</td>\n",
              "    </tr>\n",
              "    <tr>\n",
              "      <th>4</th>\n",
              "      <td>image_3.jpg</td>\n",
              "      <td>4</td>\n",
              "      <td>2</td>\n",
              "    </tr>\n",
              "    <tr>\n",
              "      <th>...</th>\n",
              "      <td>...</td>\n",
              "      <td>...</td>\n",
              "      <td>...</td>\n",
              "    </tr>\n",
              "    <tr>\n",
              "      <th>75</th>\n",
              "      <td>generated-images-012_e39.png</td>\n",
              "      <td>3</td>\n",
              "      <td>1</td>\n",
              "    </tr>\n",
              "    <tr>\n",
              "      <th>76</th>\n",
              "      <td>generated-images-013_e39.png</td>\n",
              "      <td>3</td>\n",
              "      <td>1</td>\n",
              "    </tr>\n",
              "    <tr>\n",
              "      <th>77</th>\n",
              "      <td>generated-images-014_e39.png</td>\n",
              "      <td>3</td>\n",
              "      <td>1</td>\n",
              "    </tr>\n",
              "    <tr>\n",
              "      <th>78</th>\n",
              "      <td>generated-images-015_e39.png</td>\n",
              "      <td>3</td>\n",
              "      <td>1</td>\n",
              "    </tr>\n",
              "    <tr>\n",
              "      <th>79</th>\n",
              "      <td>generated-images-016_e39.png</td>\n",
              "      <td>3</td>\n",
              "      <td>1</td>\n",
              "    </tr>\n",
              "  </tbody>\n",
              "</table>\n",
              "<p>80 rows × 3 columns</p>\n",
              "</div>"
            ],
            "text/plain": [
              "                           image  clusterid  Inception_predicted_clusterid\n",
              "0                   image_14.jpg          4                              2\n",
              "1                    image_0.jpg          4                              1\n",
              "2                    image_1.jpg          4                              2\n",
              "3                    image_2.jpg          4                              2\n",
              "4                    image_3.jpg          4                              2\n",
              "..                           ...        ...                            ...\n",
              "75  generated-images-012_e39.png          3                              1\n",
              "76  generated-images-013_e39.png          3                              1\n",
              "77  generated-images-014_e39.png          3                              1\n",
              "78  generated-images-015_e39.png          3                              1\n",
              "79  generated-images-016_e39.png          3                              1\n",
              "\n",
              "[80 rows x 3 columns]"
            ]
          },
          "metadata": {},
          "execution_count": 157
        }
      ]
    },
    {
      "cell_type": "markdown",
      "metadata": {
        "id": "x6Sq8eMrBh5C"
      },
      "source": [
        "# VGG net"
      ]
    },
    {
      "cell_type": "code",
      "metadata": {
        "id": "2MvWHniNDDi1"
      },
      "source": [
        "import keras\n",
        "from keras.applications.vgg16 import VGG16\n",
        "from keras.models import Model\n",
        "from keras.layers import Dense, GlobalAveragePooling2D, Dropout, UpSampling2D, Conv2D, MaxPooling2D, Activation, Flatten\n",
        "\n",
        "base_model = VGG16(weights='imagenet', input_shape=(224,224,3), include_top=False)\n",
        "base_out = base_model.output\n",
        "flt = Flatten()(base_out)\n",
        "dns = Dense(units=100, activation='sigmoid')(flt) \n",
        "vgg_model = Model(base_model.input, dns)"
      ],
      "execution_count": 79,
      "outputs": []
    },
    {
      "cell_type": "code",
      "metadata": {
        "id": "Nb78sXrgBkwN"
      },
      "source": [
        "def vgg_image_feature():\n",
        "    features = [];\n",
        "    img_name = [];\n",
        "    for i in tqdm(merged_images_to_cluster):\n",
        "        fname= merged_dir + '/' + i\n",
        "        img=image.load_img(fname,target_size=(224,224))\n",
        "        x = img_to_array(img)\n",
        "        x=np.expand_dims(x,axis=0)\n",
        "        x=preprocess_input(x)\n",
        "        feat=model.predict(x)\n",
        "        feat=feat.flatten()\n",
        "        features.append(feat)\n",
        "        img_name.append(i)\n",
        "    return features,img_name"
      ],
      "execution_count": 114,
      "outputs": []
    },
    {
      "cell_type": "code",
      "metadata": {
        "colab": {
          "base_uri": "https://localhost:8080/"
        },
        "id": "GV_56NyFOiVU",
        "outputId": "251e80ab-9869-40df-daa9-0ff14e94f135"
      },
      "source": [
        "img_features_VGG, img_name_VGG = vgg_image_feature()"
      ],
      "execution_count": 115,
      "outputs": [
        {
          "output_type": "stream",
          "name": "stderr",
          "text": [
            "100%|██████████| 80/80 [00:40<00:00,  1.95it/s]\n"
          ]
        }
      ]
    },
    {
      "cell_type": "code",
      "metadata": {
        "colab": {
          "base_uri": "https://localhost:8080/"
        },
        "id": "QRs-tBcFPvbJ",
        "outputId": "3a32313b-4639-48b9-afa3-d15b822e1fdc"
      },
      "source": [
        "k = 5\n",
        "clusters_vgg = KMeans(k, random_state = 40)\n",
        "clusters_vgg.fit(img_features_VGG)"
      ],
      "execution_count": 146,
      "outputs": [
        {
          "output_type": "execute_result",
          "data": {
            "text/plain": [
              "KMeans(n_clusters=5, random_state=40)"
            ]
          },
          "metadata": {},
          "execution_count": 146
        }
      ]
    },
    {
      "cell_type": "code",
      "metadata": {
        "colab": {
          "base_uri": "https://localhost:8080/",
          "height": 423
        },
        "id": "ct1MpWfBPoNs",
        "outputId": "b0dea001-b4e5-4e97-f434-405facb33306"
      },
      "source": [
        "image_cluster_merged[\"VGG_predicted_clusterid\"] = clusters_vgg.labels_ \n",
        "image_cluster_merged"
      ],
      "execution_count": 158,
      "outputs": [
        {
          "output_type": "execute_result",
          "data": {
            "text/html": [
              "<div>\n",
              "<style scoped>\n",
              "    .dataframe tbody tr th:only-of-type {\n",
              "        vertical-align: middle;\n",
              "    }\n",
              "\n",
              "    .dataframe tbody tr th {\n",
              "        vertical-align: top;\n",
              "    }\n",
              "\n",
              "    .dataframe thead th {\n",
              "        text-align: right;\n",
              "    }\n",
              "</style>\n",
              "<table border=\"1\" class=\"dataframe\">\n",
              "  <thead>\n",
              "    <tr style=\"text-align: right;\">\n",
              "      <th></th>\n",
              "      <th>image</th>\n",
              "      <th>clusterid</th>\n",
              "      <th>Inception_predicted_clusterid</th>\n",
              "      <th>VGG_predicted_clusterid</th>\n",
              "    </tr>\n",
              "  </thead>\n",
              "  <tbody>\n",
              "    <tr>\n",
              "      <th>0</th>\n",
              "      <td>image_14.jpg</td>\n",
              "      <td>4</td>\n",
              "      <td>2</td>\n",
              "      <td>2</td>\n",
              "    </tr>\n",
              "    <tr>\n",
              "      <th>1</th>\n",
              "      <td>image_0.jpg</td>\n",
              "      <td>4</td>\n",
              "      <td>1</td>\n",
              "      <td>2</td>\n",
              "    </tr>\n",
              "    <tr>\n",
              "      <th>2</th>\n",
              "      <td>image_1.jpg</td>\n",
              "      <td>4</td>\n",
              "      <td>2</td>\n",
              "      <td>2</td>\n",
              "    </tr>\n",
              "    <tr>\n",
              "      <th>3</th>\n",
              "      <td>image_2.jpg</td>\n",
              "      <td>4</td>\n",
              "      <td>2</td>\n",
              "      <td>2</td>\n",
              "    </tr>\n",
              "    <tr>\n",
              "      <th>4</th>\n",
              "      <td>image_3.jpg</td>\n",
              "      <td>4</td>\n",
              "      <td>2</td>\n",
              "      <td>2</td>\n",
              "    </tr>\n",
              "    <tr>\n",
              "      <th>...</th>\n",
              "      <td>...</td>\n",
              "      <td>...</td>\n",
              "      <td>...</td>\n",
              "      <td>...</td>\n",
              "    </tr>\n",
              "    <tr>\n",
              "      <th>75</th>\n",
              "      <td>generated-images-012_e39.png</td>\n",
              "      <td>3</td>\n",
              "      <td>1</td>\n",
              "      <td>1</td>\n",
              "    </tr>\n",
              "    <tr>\n",
              "      <th>76</th>\n",
              "      <td>generated-images-013_e39.png</td>\n",
              "      <td>3</td>\n",
              "      <td>1</td>\n",
              "      <td>4</td>\n",
              "    </tr>\n",
              "    <tr>\n",
              "      <th>77</th>\n",
              "      <td>generated-images-014_e39.png</td>\n",
              "      <td>3</td>\n",
              "      <td>1</td>\n",
              "      <td>4</td>\n",
              "    </tr>\n",
              "    <tr>\n",
              "      <th>78</th>\n",
              "      <td>generated-images-015_e39.png</td>\n",
              "      <td>3</td>\n",
              "      <td>1</td>\n",
              "      <td>3</td>\n",
              "    </tr>\n",
              "    <tr>\n",
              "      <th>79</th>\n",
              "      <td>generated-images-016_e39.png</td>\n",
              "      <td>3</td>\n",
              "      <td>1</td>\n",
              "      <td>1</td>\n",
              "    </tr>\n",
              "  </tbody>\n",
              "</table>\n",
              "<p>80 rows × 4 columns</p>\n",
              "</div>"
            ],
            "text/plain": [
              "                           image  ...  VGG_predicted_clusterid\n",
              "0                   image_14.jpg  ...                        2\n",
              "1                    image_0.jpg  ...                        2\n",
              "2                    image_1.jpg  ...                        2\n",
              "3                    image_2.jpg  ...                        2\n",
              "4                    image_3.jpg  ...                        2\n",
              "..                           ...  ...                      ...\n",
              "75  generated-images-012_e39.png  ...                        1\n",
              "76  generated-images-013_e39.png  ...                        4\n",
              "77  generated-images-014_e39.png  ...                        4\n",
              "78  generated-images-015_e39.png  ...                        3\n",
              "79  generated-images-016_e39.png  ...                        1\n",
              "\n",
              "[80 rows x 4 columns]"
            ]
          },
          "metadata": {},
          "execution_count": 158
        }
      ]
    },
    {
      "cell_type": "markdown",
      "metadata": {
        "id": "HOrubLkJQb-Q"
      },
      "source": [
        "# **Evaluation**"
      ]
    },
    {
      "cell_type": "code",
      "metadata": {
        "id": "ppV_hQb2QfXg"
      },
      "source": [
        "for i in range(10):\n",
        "    print('Accuracy of %5s : %2d %%' % (\n",
        "        classes[i], 100 * class_correct[i] / class_total[i]))"
      ],
      "execution_count": null,
      "outputs": []
    },
    {
      "cell_type": "code",
      "metadata": {
        "colab": {
          "base_uri": "https://localhost:8080/"
        },
        "id": "vRFSrGSvSa12",
        "outputId": "d17b5a72-67c8-4cf1-bc69-acdd2aa92d52"
      },
      "source": [
        "count = 0\n",
        "originalIds = image_cluster_merged[\"clusterid\"].tolist()\n",
        "predictedIds = image_cluster_merged[\"VGG_predicted_clusterid\"].tolist()\n",
        "\n",
        "intersections = [i for i, j in zip(originalIds, predictedIds) if i == j]\n",
        "accuracy = 100*len(intersections)/80\n",
        "print(\"accuracy = \",accuracy)"
      ],
      "execution_count": 161,
      "outputs": [
        {
          "output_type": "stream",
          "name": "stdout",
          "text": [
            "accuracy =  25.0\n"
          ]
        }
      ]
    },
    {
      "cell_type": "code",
      "metadata": {
        "colab": {
          "base_uri": "https://localhost:8080/"
        },
        "id": "rh8CqCDZVLwt",
        "outputId": "08ec295a-54de-4f84-f531-fba9e6443798"
      },
      "source": [
        "print(originalIds)"
      ],
      "execution_count": 136,
      "outputs": [
        {
          "output_type": "stream",
          "name": "stdout",
          "text": [
            "[5, 5, 5, 5, 5, 5, 5, 5, 5, 5, 5, 5, 5, 5, 5, 5, 1, 1, 1, 1, 1, 1, 1, 1, 1, 1, 1, 1, 1, 1, 1, 1, 2, 2, 2, 2, 2, 2, 2, 2, 2, 2, 2, 2, 2, 2, 2, 2, 3, 3, 3, 3, 3, 3, 3, 3, 3, 3, 3, 3, 3, 3, 3, 3, 4, 4, 4, 4, 4, 4, 4, 4, 4, 4, 4, 4, 4, 4, 4, 4]\n"
          ]
        }
      ]
    },
    {
      "cell_type": "code",
      "metadata": {
        "colab": {
          "base_uri": "https://localhost:8080/"
        },
        "id": "CgSKYWKyVTaB",
        "outputId": "06c9c502-b508-49c1-b95a-b1fc96e38146"
      },
      "source": [
        "print(predictedIds)"
      ],
      "execution_count": 160,
      "outputs": [
        {
          "output_type": "stream",
          "name": "stdout",
          "text": [
            "[2, 2, 2, 2, 2, 2, 2, 2, 2, 2, 2, 2, 2, 2, 2, 2, 0, 0, 0, 0, 0, 0, 0, 0, 0, 0, 0, 0, 0, 0, 0, 0, 0, 3, 0, 0, 3, 0, 0, 0, 0, 0, 3, 0, 0, 0, 0, 0, 1, 3, 4, 4, 3, 0, 4, 1, 1, 1, 3, 1, 1, 3, 1, 1, 1, 3, 4, 4, 3, 1, 1, 1, 1, 1, 3, 1, 4, 4, 3, 1]\n"
          ]
        }
      ]
    },
    {
      "cell_type": "code",
      "metadata": {
        "id": "woCH_4__YeRD"
      },
      "source": [
        "from sklearn.metrics import confusion_matrix\n",
        "from sklearn.metrics import classification_report"
      ],
      "execution_count": 163,
      "outputs": []
    },
    {
      "cell_type": "code",
      "metadata": {
        "colab": {
          "base_uri": "https://localhost:8080/"
        },
        "id": "EZiLYJndYY0u",
        "outputId": "aec0412b-6154-4ade-fb0a-007fe65ed9f3"
      },
      "source": [
        "print(classification_report(originalIds, predictedIds))"
      ],
      "execution_count": 164,
      "outputs": [
        {
          "output_type": "stream",
          "name": "stdout",
          "text": [
            "              precision    recall  f1-score   support\n",
            "\n",
            "           0       0.53      1.00      0.70        16\n",
            "           1       0.00      0.00      0.00        16\n",
            "           2       0.00      0.00      0.00        16\n",
            "           3       0.36      0.25      0.30        16\n",
            "           4       0.00      0.00      0.00        16\n",
            "\n",
            "    accuracy                           0.25        80\n",
            "   macro avg       0.18      0.25      0.20        80\n",
            "weighted avg       0.18      0.25      0.20        80\n",
            "\n"
          ]
        }
      ]
    },
    {
      "cell_type": "code",
      "metadata": {
        "colab": {
          "base_uri": "https://localhost:8080/"
        },
        "id": "lcS0ktqcYkQo",
        "outputId": "4135953b-e352-4320-d5da-8aed8aae7e87"
      },
      "source": [
        "print(confusion_matrix(originalIds, predictedIds))"
      ],
      "execution_count": 165,
      "outputs": [
        {
          "output_type": "stream",
          "name": "stdout",
          "text": [
            "[[16  0  0  0  0]\n",
            " [13  0  0  3  0]\n",
            " [ 1  8  0  4  3]\n",
            " [ 0  8  0  4  4]\n",
            " [ 0  0 16  0  0]]\n"
          ]
        }
      ]
    }
  ]
}